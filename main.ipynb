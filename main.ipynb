{
 "cells": [
  {
   "attachments": {},
   "cell_type": "markdown",
   "metadata": {},
   "source": [
    "# Neural Networks Library\n",
    "\n",
    "My idea of programming a library for Neural Networks started in 2021. I've began watching a lot of Youtube-Turorials about Machine Learning and programming in general. My experience since then had been Arduino, HTML/CSS/JS, LEGO-Mindstorms and Scratch, so to say the obvious, i was a bloody beginner.\n",
    "\n",
    "## First Try Outs\n",
    "\n",
    "In 2021 I got a Laptop from school because we had homeschooling and I started programming on it. I downloaded Python, Arduino and started first designing my first networks in Google-Colab (with tensorflow). Soon I also found a good tutorial to make my own Neural Networks (sentdex) and till then I had already a pretty good understanding of the logic behind a Neural Network, so all that was left was to be able to program it. I had multiple runs where I started this project again. Every time I ended up on a new problem, where often my understanding and motivation was done, but I always got on step further.\n",
    "\n",
    "## This Project\n",
    "\n",
    "This year 2022/23 I decided again to build a new version, that finally could optimize a Network efficiently. The first part of the year I took long time to build my mindset and decide what to focus on. In november I started my changing my daily mindset bit by bit, till in december I got to the decision to make less excuses and let what I had prepared in my head outside in my life. I changed my daily routine drastically and tried to stop instant gratification so I can build powerful habits.\n",
    "Now in January, school has got back to regularity and my routine took a lot of will power but is still standing. For not falling in a routine where I don't continously conciously improve, I decided it's time to continue on this journey and start a new Neural Network project! "
   ]
  },
  {
   "cell_type": "code",
   "execution_count": 15,
   "metadata": {},
   "outputs": [],
   "source": [
    "import numpy as np"
   ]
  },
  {
   "cell_type": "code",
   "execution_count": 18,
   "metadata": {},
   "outputs": [],
   "source": [
    "class ActivationFunction:\n",
    "    def __init__(self):\n",
    "        pass\n",
    "    def run(self, inputs):\n",
    "        return inputs\n",
    "    def __call__(self, inputs):\n",
    "        return self.run(inputs)"
   ]
  },
  {
   "cell_type": "code",
   "execution_count": 19,
   "metadata": {},
   "outputs": [],
   "source": [
    "class ReLU(ActivationFunction):\n",
    "    def __init__(self):\n",
    "        pass\n",
    "    def run(self, inputs):\n",
    "        self.output = np.maximum(0,inputs)\n",
    "        return self.output"
   ]
  },
  {
   "cell_type": "code",
   "execution_count": 20,
   "metadata": {},
   "outputs": [],
   "source": [
    "class Softmax(ActivationFunction):\n",
    "    def __init__(self):\n",
    "        pass\n",
    "    def run(self, inputs):\n",
    "        exp_values = np.exp(inputs-np.max(inputs, axis=1, keepdims=True))\n",
    "        propabilities = exp_values / np.sum(exp_values, axis = 1, keepdims=True)\n",
    "        self.output = propabilities\n",
    "        return self.output"
   ]
  },
  {
   "cell_type": "code",
   "execution_count": 21,
   "metadata": {},
   "outputs": [],
   "source": [
    "class Sigmoid(ActivationFunction):\n",
    "    def __init__(self):\n",
    "        pass"
   ]
  },
  {
   "cell_type": "code",
   "execution_count": 1,
   "metadata": {},
   "outputs": [],
   "source": [
    "class Loss:\n",
    "    def __init__(self):\n",
    "        pass\n",
    "    def calc(self, output, y):\n",
    "        \n",
    "        sampleLosses = self.run(output, y)\n",
    "        dataLoss = np.mean(sampleLosses)\n",
    "        return dataLoss"
   ]
  },
  {
   "cell_type": "code",
   "execution_count": 24,
   "metadata": {},
   "outputs": [],
   "source": [
    "class CategorialCrossEntropy(Loss):\n",
    "    def __init__(self):\n",
    "        pass\n",
    "    def run(self, y_pred, y):\n",
    "        samples = len(y_pred)\n",
    "        y_pred_clipped = np.clip(y_pred, 1e-7, 1-1e-7)\n",
    "        \n",
    "        if len(y.shape) == 1:\n",
    "            correct_confidences = y_pred_clipped[range(samples), y]\n",
    "        elif len(y.shape) == 2:\n",
    "            correct_confidences = np.sum(y_pred_clipped*y, axis=1)\n",
    "        \n",
    "        negative_log_likelihoods = -np.log(correct_confidences)\n",
    "        return negative_log_likelihoods"
   ]
  },
  {
   "cell_type": "code",
   "execution_count": 23,
   "metadata": {},
   "outputs": [],
   "source": [
    "class MeanSquaredError(Loss):\n",
    "    def __init__(self):\n",
    "        pass"
   ]
  },
  {
   "cell_type": "code",
   "execution_count": 27,
   "metadata": {},
   "outputs": [],
   "source": [
    "class Layer_Dense:\n",
    "    def __init__(self, n_inputs, n_neurons, ActivationFunction:ActivationFunction=None):\n",
    "        self.weights = 0.01 * np.random.random(n_inputs, n_neurons)\n",
    "        self.biases = np.zeros((1,n_neurons))\n",
    "        self.activationFunction = ActivationFunction\n",
    "    def run(self, inputs):\n",
    "        self.output = np.dot(self.weights, inputs) + self.biases\n",
    "        if self.activationFunction is not None:\n",
    "            self.output = self.activationFunction.run(inputs)\n",
    "        return self.output\n",
    "    def __call__(self, inputs):\n",
    "        return self.run(inputs)"
   ]
  },
  {
   "cell_type": "code",
   "execution_count": 16,
   "metadata": {},
   "outputs": [],
   "source": [
    "class Network:\n",
    "    def __init__(self):\n",
    "        self.layerList = []\n",
    "    def addLayer(self,layer):\n",
    "        self.layerList.append(layer)\n",
    "    def run(self, input):\n",
    "        for layer in self.layerList:\n",
    "            input = layer.run(input)\n",
    "        return input\n",
    "    def __call__(self, input):\n",
    "        return self.run(input)\n"
   ]
  }
 ],
 "metadata": {
  "kernelspec": {
   "display_name": "Python 3",
   "language": "python",
   "name": "python3"
  },
  "language_info": {
   "codemirror_mode": {
    "name": "ipython",
    "version": 3
   },
   "file_extension": ".py",
   "mimetype": "text/x-python",
   "name": "python",
   "nbconvert_exporter": "python",
   "pygments_lexer": "ipython3",
   "version": "3.10.4"
  },
  "orig_nbformat": 4,
  "vscode": {
   "interpreter": {
    "hash": "901b79e026e03396fd1ffa7133844e9ea80e258ce34c66e1aabb5896bcb18463"
   }
  }
 },
 "nbformat": 4,
 "nbformat_minor": 2
}
